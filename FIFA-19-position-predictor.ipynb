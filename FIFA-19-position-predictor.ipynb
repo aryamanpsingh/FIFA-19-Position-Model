{
 "cells": [
  {
   "cell_type": "code",
   "execution_count": 1,
   "metadata": {},
   "outputs": [],
   "source": [
    "import pandas as pd\n",
    "import matplotlib.pyplot as plt\n",
    "import numpy as np\n",
    "from sklearn.tree import DecisionTreeClassifier\n",
    "from sklearn.ensemble import RandomForestClassifier\n",
    "from sklearn.metrics import mean_absolute_error\n",
    "from sklearn.metrics import roc_auc_score\n",
    "from sklearn.model_selection import train_test_split\n",
    "from sklearn.neighbors import KNeighborsClassifier\n",
    "from sklearn.metrics import confusion_matrix\n",
    "from sklearn.metrics import accuracy_score\n",
    "from sklearn.ensemble import GradientBoostingClassifier\n",
    "from sklearn.metrics import completeness_score"
   ]
  },
  {
   "cell_type": "code",
   "execution_count": 2,
   "metadata": {},
   "outputs": [],
   "source": [
    "df = pd.read_csv('cleaned-fifa-data.csv')"
   ]
  },
  {
   "cell_type": "code",
   "execution_count": 3,
   "metadata": {},
   "outputs": [],
   "source": [
    "def parse_ht(ht):\n",
    "    # format: 7' 0.0\"\n",
    "    ht_ = ht.split(\"'\")\n",
    "    ft_ = float(ht_[0])\n",
    "    in_ = float(ht_[1].replace(\"\\\"\",\"\"))\n",
    "    return (12*ft_) + in_\n",
    "\n",
    "df['Height'] = df['Height'].apply(lambda x:parse_ht(x))"
   ]
  },
  {
   "cell_type": "code",
   "execution_count": 4,
   "metadata": {},
   "outputs": [
    {
     "name": "stderr",
     "output_type": "stream",
     "text": [
      "/anaconda3/lib/python3.6/site-packages/ipykernel_launcher.py:1: SettingWithCopyWarning: \n",
      "A value is trying to be set on a copy of a slice from a DataFrame\n",
      "\n",
      "See the caveats in the documentation: http://pandas.pydata.org/pandas-docs/stable/indexing.html#indexing-view-versus-copy\n",
      "  \"\"\"Entry point for launching an IPython kernel.\n",
      "/anaconda3/lib/python3.6/site-packages/ipykernel_launcher.py:2: SettingWithCopyWarning: \n",
      "A value is trying to be set on a copy of a slice from a DataFrame\n",
      "\n",
      "See the caveats in the documentation: http://pandas.pydata.org/pandas-docs/stable/indexing.html#indexing-view-versus-copy\n",
      "  \n",
      "/anaconda3/lib/python3.6/site-packages/ipykernel_launcher.py:3: SettingWithCopyWarning: \n",
      "A value is trying to be set on a copy of a slice from a DataFrame\n",
      "\n",
      "See the caveats in the documentation: http://pandas.pydata.org/pandas-docs/stable/indexing.html#indexing-view-versus-copy\n",
      "  This is separate from the ipykernel package so we can avoid doing imports until\n",
      "/anaconda3/lib/python3.6/site-packages/ipykernel_launcher.py:4: SettingWithCopyWarning: \n",
      "A value is trying to be set on a copy of a slice from a DataFrame\n",
      "\n",
      "See the caveats in the documentation: http://pandas.pydata.org/pandas-docs/stable/indexing.html#indexing-view-versus-copy\n",
      "  after removing the cwd from sys.path.\n",
      "/anaconda3/lib/python3.6/site-packages/ipykernel_launcher.py:5: SettingWithCopyWarning: \n",
      "A value is trying to be set on a copy of a slice from a DataFrame\n",
      "\n",
      "See the caveats in the documentation: http://pandas.pydata.org/pandas-docs/stable/indexing.html#indexing-view-versus-copy\n",
      "  \"\"\"\n",
      "/anaconda3/lib/python3.6/site-packages/ipykernel_launcher.py:6: SettingWithCopyWarning: \n",
      "A value is trying to be set on a copy of a slice from a DataFrame\n",
      "\n",
      "See the caveats in the documentation: http://pandas.pydata.org/pandas-docs/stable/indexing.html#indexing-view-versus-copy\n",
      "  \n",
      "/anaconda3/lib/python3.6/site-packages/ipykernel_launcher.py:7: SettingWithCopyWarning: \n",
      "A value is trying to be set on a copy of a slice from a DataFrame\n",
      "\n",
      "See the caveats in the documentation: http://pandas.pydata.org/pandas-docs/stable/indexing.html#indexing-view-versus-copy\n",
      "  import sys\n",
      "/anaconda3/lib/python3.6/site-packages/ipykernel_launcher.py:8: SettingWithCopyWarning: \n",
      "A value is trying to be set on a copy of a slice from a DataFrame\n",
      "\n",
      "See the caveats in the documentation: http://pandas.pydata.org/pandas-docs/stable/indexing.html#indexing-view-versus-copy\n",
      "  \n",
      "/anaconda3/lib/python3.6/site-packages/ipykernel_launcher.py:9: SettingWithCopyWarning: \n",
      "A value is trying to be set on a copy of a slice from a DataFrame\n",
      "\n",
      "See the caveats in the documentation: http://pandas.pydata.org/pandas-docs/stable/indexing.html#indexing-view-versus-copy\n",
      "  if __name__ == '__main__':\n",
      "/anaconda3/lib/python3.6/site-packages/ipykernel_launcher.py:10: SettingWithCopyWarning: \n",
      "A value is trying to be set on a copy of a slice from a DataFrame\n",
      "\n",
      "See the caveats in the documentation: http://pandas.pydata.org/pandas-docs/stable/indexing.html#indexing-view-versus-copy\n",
      "  # Remove the CWD from sys.path while we load stuff.\n",
      "/anaconda3/lib/python3.6/site-packages/ipykernel_launcher.py:11: SettingWithCopyWarning: \n",
      "A value is trying to be set on a copy of a slice from a DataFrame\n",
      "\n",
      "See the caveats in the documentation: http://pandas.pydata.org/pandas-docs/stable/indexing.html#indexing-view-versus-copy\n",
      "  # This is added back by InteractiveShellApp.init_path()\n",
      "/anaconda3/lib/python3.6/site-packages/ipykernel_launcher.py:12: SettingWithCopyWarning: \n",
      "A value is trying to be set on a copy of a slice from a DataFrame\n",
      "\n",
      "See the caveats in the documentation: http://pandas.pydata.org/pandas-docs/stable/indexing.html#indexing-view-versus-copy\n",
      "  if sys.path[0] == '':\n",
      "/anaconda3/lib/python3.6/site-packages/ipykernel_launcher.py:13: SettingWithCopyWarning: \n",
      "A value is trying to be set on a copy of a slice from a DataFrame\n",
      "\n",
      "See the caveats in the documentation: http://pandas.pydata.org/pandas-docs/stable/indexing.html#indexing-view-versus-copy\n",
      "  del sys.path[0]\n"
     ]
    }
   ],
   "source": [
    "df.Position[df.Position==2] = 1\n",
    "df.Position[df.Position==6] = 1\n",
    "df.Position[df.Position==7] = 1\n",
    "df.Position[df.Position==9] = 5\n",
    "df.Position[df.Position==10] = 8\n",
    "df.Position[df.Position==13] = 11\n",
    "df.Position[df.Position==14] = 1\n",
    "df.Position[df.Position==15] = 8\n",
    "df.Position[df.Position==17] = 12\n",
    "df.Position[df.Position==20] = 11\n",
    "df.Position[df.Position==22] = 5\n",
    "df.Position[df.Position==24] = 12\n",
    "df.Position[df.Position==25] = 1"
   ]
  },
  {
   "cell_type": "code",
   "execution_count": 141,
   "metadata": {},
   "outputs": [],
   "source": [
    "features = ['Height','Age','Crossing','Finishing', 'HeadingAccuracy', 'ShortPassing', 'Volleys', 'Dribbling',\n",
    "       'Curve', 'FKAccuracy', 'LongPassing', 'BallControl', 'Acceleration',\n",
    "       'SprintSpeed', 'Agility', 'Reactions', 'Balance', 'ShotPower',\n",
    "       'Jumping', 'Stamina', 'Strength', 'LongShots', 'Aggression',\n",
    "       'Interceptions', 'Positioning', 'Vision', 'Penalties', 'Composure',\n",
    "       'Marking', 'StandingTackle', 'SlidingTackle','Skill Moves']\n",
    "features2 = ['Age','Crossing','Finishing', 'ShortPassing', 'Volleys', 'Dribbling',\n",
    "       'Curve', 'FKAccuracy', 'LongPassing', 'BallControl', 'Acceleration',\n",
    "       'SprintSpeed', 'Agility', 'Reactions', 'Balance', 'ShotPower',\n",
    "       'Jumping', 'Strength', 'LongShots',\n",
    "       'Interceptions', 'Positioning', 'Vision', 'Penalties',\n",
    "       'Marking', 'StandingTackle', 'SlidingTackle','Skill Moves']\n",
    "X = df[features]\n",
    "y = df.Position\n",
    "y = y.astype(int)\n",
    "y = df.Position\n",
    "train_X, val_X, train_y, val_y = train_test_split(X,y,test_size=0.2,random_state=0)"
   ]
  },
  {
   "cell_type": "code",
   "execution_count": 117,
   "metadata": {},
   "outputs": [],
   "source": [
    "dt_model = DecisionTreeClassifier(random_state=0)\n",
    "dt_model.fit(train_X,train_y)\n",
    "dt_pred = dt_model.predict(val_X)"
   ]
  },
  {
   "cell_type": "code",
   "execution_count": 118,
   "metadata": {},
   "outputs": [
    {
     "name": "stdout",
     "output_type": "stream",
     "text": [
      "0.5360881542699725\n"
     ]
    }
   ],
   "source": [
    "print(accuracy_score(dt_pred,val_y))"
   ]
  },
  {
   "cell_type": "code",
   "execution_count": 8,
   "metadata": {},
   "outputs": [
    {
     "data": {
      "text/plain": [
       "16351        R. Rosenqvist\n",
       "7572            L. Lamprou\n",
       "12392            S. Nelson\n",
       "7171            J. Grounds\n",
       "3515             D. Zabala\n",
       "14338          D. Vlahovic\n",
       "4492       André Milazisco\n",
       "5687             M. Olsson\n",
       "4139            J. Larsson\n",
       "167              T. Werner\n",
       "8652             K. Larsen\n",
       "3008           D. Fagundez\n",
       "13877            T. Takagi\n",
       "12344            G. Cortez\n",
       "9772           A. Schlager\n",
       "4581            D. Bentley\n",
       "18105            H. Norris\n",
       "554          S. Sorrentino\n",
       "4386            A. Oukidja\n",
       "5543          F. Al Ansari\n",
       "7355              F. Godoy\n",
       "888                Adriano\n",
       "2330        Kauã Abranches\n",
       "11879           H. Shimoda\n",
       "12850         E. Andersson\n",
       "8231              J. Gómez\n",
       "7218              J. Dunne\n",
       "6089             G. Maroni\n",
       "11564            Edu Frias\n",
       "1921           Borja Valle\n",
       "               ...        \n",
       "6415              J. Ramis\n",
       "2549             M. Diagne\n",
       "10220           A. Barylla\n",
       "7770              F. Amuzu\n",
       "2779             M. Rangel\n",
       "14040    R. Hepburn-Murphy\n",
       "13210             D. Kudła\n",
       "5833            C. Bonilla\n",
       "1106             S. Boufal\n",
       "17199            T. Jäntti\n",
       "15669          A. Jakubiak\n",
       "11727             A. Taoui\n",
       "1150          T. Hernández\n",
       "3586        Nilsito Vilela\n",
       "5165            E. Bologna\n",
       "13467         L. Watkowiak\n",
       "12461          W. Abdullah\n",
       "3679             C. Galano\n",
       "4374           M. Hartmann\n",
       "8624         Lee Jong Sung\n",
       "12601              E. Ruiz\n",
       "13339           C. Halkett\n",
       "7852             S. Becker\n",
       "1462          A. Cresswell\n",
       "11098            S. Skytte\n",
       "4898            R. Dwamena\n",
       "8885           F. Narsingh\n",
       "13916           C. Roberts\n",
       "8464               Y. Mutō\n",
       "4402            T. Hubočan\n",
       "Name: Name, Length: 3630, dtype: object"
      ]
     },
     "execution_count": 8,
     "metadata": {},
     "output_type": "execute_result"
    }
   ],
   "source": [
    "val_y"
   ]
  },
  {
   "cell_type": "code",
   "execution_count": 159,
   "metadata": {},
   "outputs": [
    {
     "name": "stdout",
     "output_type": "stream",
     "text": [
      "maxdepth = 300  - min_ss= 300\n",
      "0.6366391184573003\n"
     ]
    }
   ],
   "source": [
    "vals = [5,10,20,30,40,50,100,150,200,250,300]#maxf=14,minss=50\n",
    "\n",
    "print(\"maxdepth =\",k,\" - min_ss=\",j)\n",
    "rf_mod = RandomForestClassifier(max_depth=100,random_state=0,max_features=14,min_samples_split=40)\n",
    "rf_mod.fit(train_X,train_y)\n",
    "rf_pred = rf_mod.predict(val_X)\n",
    "print(accuracy_score(val_y,rf_pred))"
   ]
  },
  {
   "cell_type": "code",
   "execution_count": 114,
   "metadata": {},
   "outputs": [
    {
     "data": {
      "text/plain": [
       "RandomForestClassifier(bootstrap=True, class_weight=None, criterion='gini',\n",
       "            max_depth=10, max_features='auto', max_leaf_nodes=None,\n",
       "            min_impurity_decrease=0.0, min_impurity_split=None,\n",
       "            min_samples_leaf=1, min_samples_split=2,\n",
       "            min_weight_fraction_leaf=0.0, n_estimators=10, n_jobs=1,\n",
       "            oob_score=False, random_state=0, verbose=0, warm_start=False)"
      ]
     },
     "execution_count": 114,
     "metadata": {},
     "output_type": "execute_result"
    }
   ],
   "source": [
    "rf_mod"
   ]
  },
  {
   "cell_type": "code",
   "execution_count": 78,
   "metadata": {},
   "outputs": [],
   "source": [
    "new_arr = [72,20,70,60,55,65,60,70,65,60,60,65,70,70,70,50,70,60,55,55,60,65,50,35,40,59,60,65,36,30,28,4]\n",
    "new_vals = pd.DataFrame(columns=['Index'])"
   ]
  },
  {
   "cell_type": "code",
   "execution_count": 82,
   "metadata": {},
   "outputs": [],
   "source": [
    "new_vals = new_vals.append([new_arr])"
   ]
  },
  {
   "cell_type": "code",
   "execution_count": 103,
   "metadata": {},
   "outputs": [
    {
     "name": "stdout",
     "output_type": "stream",
     "text": [
      "Enter Height: 78\n",
      "Enter Age: 32\n",
      "Enter Crossing: 34\n",
      "Enter Finishing: 85\n",
      "Enter HeadingAccuracy: 74\n",
      "Enter ShortPassing: 70\n",
      "Enter Volleys: 75\n",
      "Enter Dribbling: 65\n",
      "Enter Curve: 80\n",
      "Enter FKAccuracy: 63\n",
      "Enter LongPassing: 80\n",
      "Enter BallControl: 70\n",
      "Enter Acceleration: 74\n",
      "Enter SprintSpeed: 80\n",
      "Enter Agility: 68\n",
      "Enter Reactions: 75\n",
      "Enter Balance: 68\n",
      "Enter ShotPower: 86\n",
      "Enter Jumping: 77\n",
      "Enter Stamina: 45\n",
      "Enter Strength: 64\n",
      "Enter LongShots: 76\n",
      "Enter Aggression: 56\n",
      "Enter Interceptions: 59\n",
      "Enter Positioning: 58\n",
      "Enter Vision: 72\n",
      "Enter Penalties: 69\n",
      "Enter Composure: 53\n",
      "Enter Marking: 50\n",
      "Enter StandingTackle: 64\n",
      "Enter SlidingTackle: 53\n",
      "Enter Skill Moves: 3\n"
     ]
    }
   ],
   "source": [
    "i=0\n",
    "for field in features:\n",
    "    new_arr[i] = input(\"Enter {}: \".format(field))\n",
    "    i = i+1"
   ]
  },
  {
   "cell_type": "code",
   "execution_count": 107,
   "metadata": {},
   "outputs": [],
   "source": [
    "new_vals = pd.DataFrame(columns=['Index'])\n",
    "new_vals = new_vals.append([new_arr])"
   ]
  },
  {
   "cell_type": "code",
   "execution_count": 108,
   "metadata": {},
   "outputs": [],
   "source": [
    "new_vals = new_vals.drop('Index',axis=1)"
   ]
  },
  {
   "cell_type": "code",
   "execution_count": 86,
   "metadata": {},
   "outputs": [
    {
     "data": {
      "text/html": [
       "<div>\n",
       "<style scoped>\n",
       "    .dataframe tbody tr th:only-of-type {\n",
       "        vertical-align: middle;\n",
       "    }\n",
       "\n",
       "    .dataframe tbody tr th {\n",
       "        vertical-align: top;\n",
       "    }\n",
       "\n",
       "    .dataframe thead th {\n",
       "        text-align: right;\n",
       "    }\n",
       "</style>\n",
       "<table border=\"1\" class=\"dataframe\">\n",
       "  <thead>\n",
       "    <tr style=\"text-align: right;\">\n",
       "      <th></th>\n",
       "      <th>0</th>\n",
       "      <th>1</th>\n",
       "      <th>2</th>\n",
       "      <th>3</th>\n",
       "      <th>4</th>\n",
       "      <th>5</th>\n",
       "      <th>6</th>\n",
       "      <th>7</th>\n",
       "      <th>8</th>\n",
       "      <th>9</th>\n",
       "      <th>...</th>\n",
       "      <th>22</th>\n",
       "      <th>23</th>\n",
       "      <th>24</th>\n",
       "      <th>25</th>\n",
       "      <th>26</th>\n",
       "      <th>27</th>\n",
       "      <th>28</th>\n",
       "      <th>29</th>\n",
       "      <th>30</th>\n",
       "      <th>31</th>\n",
       "    </tr>\n",
       "  </thead>\n",
       "  <tbody>\n",
       "    <tr>\n",
       "      <th>0</th>\n",
       "      <td>72.0</td>\n",
       "      <td>20.0</td>\n",
       "      <td>70.0</td>\n",
       "      <td>60.0</td>\n",
       "      <td>55.0</td>\n",
       "      <td>65.0</td>\n",
       "      <td>60.0</td>\n",
       "      <td>70.0</td>\n",
       "      <td>65.0</td>\n",
       "      <td>60.0</td>\n",
       "      <td>...</td>\n",
       "      <td>50.0</td>\n",
       "      <td>35.0</td>\n",
       "      <td>40.0</td>\n",
       "      <td>59.0</td>\n",
       "      <td>60.0</td>\n",
       "      <td>65.0</td>\n",
       "      <td>36.0</td>\n",
       "      <td>30.0</td>\n",
       "      <td>28.0</td>\n",
       "      <td>4.0</td>\n",
       "    </tr>\n",
       "  </tbody>\n",
       "</table>\n",
       "<p>1 rows × 32 columns</p>\n",
       "</div>"
      ],
      "text/plain": [
       "     0     1     2     3     4     5     6     7     8     9  ...     22  \\\n",
       "0  72.0  20.0  70.0  60.0  55.0  65.0  60.0  70.0  65.0  60.0 ...   50.0   \n",
       "\n",
       "     23    24    25    26    27    28    29    30   31  \n",
       "0  35.0  40.0  59.0  60.0  65.0  36.0  30.0  28.0  4.0  \n",
       "\n",
       "[1 rows x 32 columns]"
      ]
     },
     "execution_count": 86,
     "metadata": {},
     "output_type": "execute_result"
    }
   ],
   "source": [
    "x"
   ]
  },
  {
   "cell_type": "code",
   "execution_count": 73,
   "metadata": {},
   "outputs": [
    {
     "data": {
      "text/html": [
       "<div>\n",
       "<style scoped>\n",
       "    .dataframe tbody tr th:only-of-type {\n",
       "        vertical-align: middle;\n",
       "    }\n",
       "\n",
       "    .dataframe tbody tr th {\n",
       "        vertical-align: top;\n",
       "    }\n",
       "\n",
       "    .dataframe thead th {\n",
       "        text-align: right;\n",
       "    }\n",
       "</style>\n",
       "<table border=\"1\" class=\"dataframe\">\n",
       "  <thead>\n",
       "    <tr style=\"text-align: right;\">\n",
       "      <th></th>\n",
       "      <th>Index</th>\n",
       "    </tr>\n",
       "  </thead>\n",
       "  <tbody>\n",
       "  </tbody>\n",
       "</table>\n",
       "</div>"
      ],
      "text/plain": [
       "Empty DataFrame\n",
       "Columns: [Index]\n",
       "Index: []"
      ]
     },
     "execution_count": 73,
     "metadata": {},
     "output_type": "execute_result"
    }
   ],
   "source": [
    "new_vals"
   ]
  },
  {
   "cell_type": "code",
   "execution_count": 109,
   "metadata": {},
   "outputs": [],
   "source": [
    "single_rf_pred = rf_mod.predict(new_vals)"
   ]
  },
  {
   "cell_type": "code",
   "execution_count": 110,
   "metadata": {},
   "outputs": [],
   "source": [
    "def to_position(pred_arr):\n",
    "    i=0\n",
    "    Y = [None]*len(pred_arr)\n",
    "    for x in pred_arr:\n",
    "        if x==1:\n",
    "            Y[i]=\"RF\"\n",
    "        elif x==2:\n",
    "            Y[i]=\"ST\"\n",
    "        elif x==3:\n",
    "            Y[i]=\"LW\"\n",
    "        elif x==4:\n",
    "            Y[i]=\"GK\"\n",
    "        elif x==5:\n",
    "            Y[i]=\"RCM\"\n",
    "        elif x==6:\n",
    "            Y[i]=\"LF\"\n",
    "        elif x==7:\n",
    "            Y[i]=\"RS\"\n",
    "        elif x==8:\n",
    "            Y[i]=\"RCB\"\n",
    "        elif x==9:\n",
    "            Y[i]=\"LCM\"\n",
    "        elif x==10:\n",
    "            Y[i]=\"CB\"\n",
    "        elif x==11:\n",
    "            Y[i]=\"LDM\"\n",
    "        elif x==12:\n",
    "            Y[i]=\"CAM\"\n",
    "        elif x==13:\n",
    "            Y[i]=\"CDM\"\n",
    "        elif x==14:\n",
    "            Y[i]=\"LS\"\n",
    "        elif x==15:\n",
    "            Y[i]=\"LCB\"\n",
    "        elif x==16:\n",
    "            Y[i]=\"RM\"\n",
    "        elif x==17:\n",
    "            Y[i]=\"LAM\"\n",
    "        elif x==18:\n",
    "            Y[i]=\"LM\"\n",
    "        elif x==19:\n",
    "            Y[i]=\"LB\"\n",
    "        elif x==20:\n",
    "            Y[i]=\"RDM\"\n",
    "        elif x==21:\n",
    "            Y[i]=\"RW\"\n",
    "        elif x==22:\n",
    "            Y[i]=\"CM\"\n",
    "        elif x==23:\n",
    "            Y[i]=\"RB\"\n",
    "        elif x==24:\n",
    "            Y[i]=\"RAM\"\n",
    "        elif x==25:\n",
    "            Y[i]=\"CF\"\n",
    "        elif x==26:\n",
    "            Y[i]=\"RWB\"\n",
    "        elif x==27:\n",
    "            Y[i]=\"LWB\"\n",
    "        i = i+1\n",
    "    return Y\n",
    "predicted_position = to_position(single_rf_pred)\n",
    "        "
   ]
  },
  {
   "cell_type": "code",
   "execution_count": 111,
   "metadata": {},
   "outputs": [
    {
     "data": {
      "text/plain": [
       "['CAM']"
      ]
     },
     "execution_count": 111,
     "metadata": {},
     "output_type": "execute_result"
    }
   ],
   "source": [
    "predicted_position"
   ]
  },
  {
   "cell_type": "code",
   "execution_count": null,
   "metadata": {},
   "outputs": [],
   "source": []
  }
 ],
 "metadata": {
  "kernelspec": {
   "display_name": "Python 3",
   "language": "python",
   "name": "python3"
  },
  "language_info": {
   "codemirror_mode": {
    "name": "ipython",
    "version": 3
   },
   "file_extension": ".py",
   "mimetype": "text/x-python",
   "name": "python",
   "nbconvert_exporter": "python",
   "pygments_lexer": "ipython3",
   "version": "3.6.5"
  }
 },
 "nbformat": 4,
 "nbformat_minor": 2
}
